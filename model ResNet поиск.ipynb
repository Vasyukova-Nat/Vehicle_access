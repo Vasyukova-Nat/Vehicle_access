{
 "cells": [
  {
   "cell_type": "code",
   "execution_count": null,
   "id": "c4869b75-2afc-4a10-a5ac-aef05d1047a8",
   "metadata": {},
   "outputs": [],
   "source": [
    "import tensorflow as tf\n",
    "from tensorflow.keras import layers, models\n",
    "from tensorflow.keras.applications import ResNet50\n",
    "from tensorflow.keras.preprocessing.image import ImageDataGenerator\n",
    "\n",
    "# Параметры\n",
    "IMG_HEIGHT = 224\n",
    "IMG_WIDTH = 224\n",
    "BATCH_SIZE = 32\n",
    "NUM_CLASSES = 1  # Для задачи обнаружения номеров\n",
    "\n",
    "# Создание модели ResNet50\n",
    "def create_model():\n",
    "    base_model = ResNet50(weights='imagenet', include_top=False, input_shape=(IMG_HEIGHT, IMG_WIDTH, 3))\n",
    "    base_model.trainable = False  # Замораживаем базовую модель\n",
    "\n",
    "    model = models.Sequential([\n",
    "        base_model,\n",
    "        layers.GlobalAveragePooling2D(),\n",
    "        layers.Dense(NUM_CLASSES, activation='sigmoid')  # Используем sigmoid для бинарной классификации\n",
    "    ])\n",
    "\n",
    "    model.compile(optimizer='adam', loss='binary_crossentropy', metrics=['accuracy'])\n",
    "    return model\n",
    "\n",
    "# Подготовка данных\n",
    "train_datagen = ImageDataGenerator(rescale=1./255)\n",
    "train_generator = train_datagen.flow_from_directory(\n",
    "    'C:/Users/lucky/Desktop/ПП_3_сем/ML_v3/OCR/train',  # Путь к данным\n",
    "    target_size=(IMG_HEIGHT, IMG_WIDTH),\n",
    "    batch_size=BATCH_SIZE,\n",
    "    class_mode='binary'  # Для бинарной классификации\n",
    ")\n",
    "\n",
    "# Обучение модели\n",
    "model = create_model()\n",
    "model.fit(train_generator, epochs=10)  # Увеличьте количество эпох по необходимости\n",
    "\n",
    "# Сохранение модели в формате .tflite\n",
    "converter = tf.lite.TFLiteConverter.from_keras_model(model)\n",
    "tflite_model = converter.convert()\n",
    "\n",
    "# Сохранение .tflite модели\n",
    "with open('model.tflite', 'wb') as f:\n",
    "    f.write(tflite_model)\n",
    "\n",
    "print(\"Модель успешно сохранена в формате .tflite\")"
   ]
  },
  {
   "cell_type": "code",
   "execution_count": null,
   "id": "24b2c4fe-34e0-467f-ada2-15e5331ae8d8",
   "metadata": {},
   "outputs": [],
   "source": []
  }
 ],
 "metadata": {
  "kernelspec": {
   "display_name": "Python 3 (ipykernel)",
   "language": "python",
   "name": "python3"
  },
  "language_info": {
   "codemirror_mode": {
    "name": "ipython",
    "version": 3
   },
   "file_extension": ".py",
   "mimetype": "text/x-python",
   "name": "python",
   "nbconvert_exporter": "python",
   "pygments_lexer": "ipython3",
   "version": "3.11.5"
  }
 },
 "nbformat": 4,
 "nbformat_minor": 5
}
